{
 "cells": [
  {
   "cell_type": "code",
   "execution_count": 1,
   "id": "a773a6e0",
   "metadata": {},
   "outputs": [
    {
     "name": "stderr",
     "output_type": "stream",
     "text": [
      "Copying files: 55448 files [17:35, 52.52 files/s] \n"
     ]
    }
   ],
   "source": [
    "import splitfolders\n",
    "\n",
    "input_folder = \"D:\\SM\\Career_Projects\\Project_1_(Image Processing)\\Dataset\\Plant_leave_diseases_dataset_without_augmentation\"\n",
    "output_folder = \"D:\\\\SM\\\\Career_Projects\\\\Project_1_(Image Processing)\\\\Dataset\\\\Unaugmented\"\n",
    "\n",
    "splitfolders.ratio (input_folder, output = output_folder, seed = 42, ratio = (.7, .2, .1), group_prefix = None)\n"
   ]
  },
  {
   "cell_type": "code",
   "execution_count": 2,
   "id": "57c71a26",
   "metadata": {},
   "outputs": [
    {
     "name": "stderr",
     "output_type": "stream",
     "text": [
      "Copying files: 61486 files [19:54, 51.46 files/s] \n"
     ]
    }
   ],
   "source": [
    "import splitfolders\n",
    "\n",
    "input_folder = \"D:\\\\SM\\\\Career_Projects\\\\Project_1_(Image Processing)\\\\Dataset\\\\Plant_leave_diseases_dataset_with_augmentation\"\n",
    "output_folder = \"D:\\\\SM\\\\Career_Projects\\\\Project_1_(Image Processing)\\\\Dataset\\\\Augmented\"\n",
    "\n",
    "splitfolders.ratio (input_folder, output = output_folder, seed = 42, ratio = (.7, .2, .1), group_prefix = None)\n"
   ]
  }
 ],
 "metadata": {
  "kernelspec": {
   "display_name": "Python 3 (ipykernel)",
   "language": "python",
   "name": "python3"
  },
  "language_info": {
   "codemirror_mode": {
    "name": "ipython",
    "version": 3
   },
   "file_extension": ".py",
   "mimetype": "text/x-python",
   "name": "python",
   "nbconvert_exporter": "python",
   "pygments_lexer": "ipython3",
   "version": "3.10.4"
  }
 },
 "nbformat": 4,
 "nbformat_minor": 5
}
